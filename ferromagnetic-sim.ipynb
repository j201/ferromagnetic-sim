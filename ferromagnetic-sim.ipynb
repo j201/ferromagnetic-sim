{
 "cells": [
  {
   "cell_type": "markdown",
   "metadata": {},
   "source": [
    "# Ferromagnetic Simulation\n",
    "\n",
    "The following code provides an interactive simulation of an Ising model on a 2D lattice using the [Wolff algorithm](http://csml.northwestern.edu/resources/Reprints/lnp_color.pdf).\n",
    "\n",
    "The following Julia libraries are required:\n",
    "\n",
    "- Interact.jl\n",
    "- Plots.jl\n",
    "- Suppressor.jl"
   ]
  },
  {
   "cell_type": "code",
   "execution_count": null,
   "metadata": {},
   "outputs": [],
   "source": [
    "using Interact, Plots, Suppressor"
   ]
  },
  {
   "cell_type": "code",
   "execution_count": null,
   "metadata": {},
   "outputs": [],
   "source": [
    "N = 20\n",
    "s_init = (rand(N,N) .> 0.5).*2 .- 1\n",
    "print(size(s_init))\n",
    "\n",
    "const Spin = Tuple{Integer,Integer}\n",
    "const Bond = Set{Spin}\n",
    "\n",
    "function neighboursof(loc::Spin)::Array{Spin,1}\n",
    "\t[(loc[1] < N ? [(loc[1]+1, loc[2])] : []);\n",
    "\t\t(loc[1] > 1 ? [(loc[1]-1, loc[2])] : []);\n",
    "\t\t(loc[2] < N ? [(loc[1], loc[2]+1)] : []);\n",
    "\t\t(loc[2] > 1 ? [(loc[1], loc[2]-1)] : [])]\n",
    "end\n",
    "\n",
    "\"MCMC sampler for an Ising model on a 2D lattice using the Wolff algorithm,\n",
    "generates the next sample given current state `s`, inverse temperature beta, and interaction strength J\"\n",
    "function sample(s, beta, J)\n",
    "\tsampledbonds = Set()\n",
    "\tspinstack = [(rand(1:N),rand(1:N))]\n",
    "\tcluster = Set()\n",
    "\twhile !isempty(spinstack)\n",
    "\t\tspin = pop!(spinstack)\n",
    "\t\tpush!(cluster, spin)\n",
    "\t\tfor spin_ in neighboursof(spin)\n",
    "\t\t\tbond = Set((spin,spin_))\n",
    "\t\t\tbond in sampledbonds && continue\n",
    "\t\t\ts[spin[1],spin[2]] != sign(J)*s[spin_[1],spin_[2]] && continue\n",
    "\t\t\tp = 1 - exp(-2*beta*abs(J))\n",
    "\t\t\trand() < p && push!(spinstack, spin_)\n",
    "\t\t\tpush!(sampledbonds, bond)\n",
    "\t\tend\n",
    "\tend\n",
    "\ts_ = copy(s)\n",
    "\tfor loc in cluster\n",
    "\t\ts_[loc[1],loc[2]] = -s_[loc[1],loc[2]]\n",
    "\tend\n",
    "\ts_\n",
    "end"
   ]
  },
  {
   "cell_type": "markdown",
   "metadata": {},
   "source": [
    "The simulation has two options: beta, which controls the inverse temperature of the simulation, and a toggle between ferromagnetic (J=1) and antiferromagnetic (J=-1) behaviour. Roughly speaking, at low beta values, the simulation will tend towards more disordered states, whereas at high beta values, it will behave in a more strictly ferromagnetic or antiferromagnetic way."
   ]
  },
  {
   "cell_type": "code",
   "execution_count": null,
   "metadata": {},
   "outputs": [],
   "source": [
    "fps = 3\n",
    "timer = Observable(0.0)\n",
    "@async while true\n",
    "\tsleep(1/fps)\n",
    "\ttimer[] = timer[] + 1/fps\n",
    "end\n",
    "\n",
    "s = s_init\n",
    "@manipulate for beta=0:0.02:1, mag=togglebuttons([\"Ferromagnetic\",\"Antiferromagnetic\"]), t=timer\n",
    "\tglobal s\n",
    "\tJ = mag == \"Ferromagnetic\" ? 1 : -1\n",
    "\ts = sample(s, beta, J)\n",
    "\t@suppress_err begin\n",
    "\t\t# Plots.jl gives a lot of GKS warnings here - probably a bug in the library\n",
    "\t\theatmap(s, colorbar=false)\n",
    "\tend\n",
    "end"
   ]
  },
  {
   "cell_type": "code",
   "execution_count": null,
   "metadata": {},
   "outputs": [],
   "source": []
  }
 ],
 "metadata": {
  "@webio": {
   "lastCommId": "7f7dcd8842dc4a98810335159d509373",
   "lastKernelId": "409a671f-6487-4e50-9a6f-775ac4c26a2b"
  },
  "kernelspec": {
   "display_name": "Julia 1.4.2",
   "language": "julia",
   "name": "julia-1.4"
  },
  "language_info": {
   "file_extension": ".jl",
   "mimetype": "application/julia",
   "name": "julia",
   "version": "1.4.2"
  }
 },
 "nbformat": 4,
 "nbformat_minor": 4
}
